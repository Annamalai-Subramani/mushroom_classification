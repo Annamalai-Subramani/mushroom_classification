{
 "cells": [
  {
   "cell_type": "code",
   "execution_count": 1,
   "metadata": {},
   "outputs": [],
   "source": [
    "import os\n",
    "import sys"
   ]
  },
  {
   "cell_type": "code",
   "execution_count": 2,
   "metadata": {},
   "outputs": [
    {
     "data": {
      "text/plain": [
       "'d:\\\\Projects\\\\mushroom_classification\\\\mushroom_classification\\\\notebooks'"
      ]
     },
     "execution_count": 2,
     "metadata": {},
     "output_type": "execute_result"
    }
   ],
   "source": [
    "%pwd"
   ]
  },
  {
   "cell_type": "code",
   "execution_count": 3,
   "metadata": {},
   "outputs": [],
   "source": [
    "os.chdir('../')"
   ]
  },
  {
   "cell_type": "code",
   "execution_count": 4,
   "metadata": {},
   "outputs": [
    {
     "data": {
      "text/plain": [
       "'d:\\\\Projects\\\\mushroom_classification\\\\mushroom_classification'"
      ]
     },
     "execution_count": 4,
     "metadata": {},
     "output_type": "execute_result"
    }
   ],
   "source": [
    "%pwd"
   ]
  },
  {
   "cell_type": "code",
   "execution_count": 5,
   "metadata": {},
   "outputs": [],
   "source": [
    "import os\n",
    "import sys\n",
    "import pickle\n",
    "import numpy as np\n",
    "import pandas as pd\n",
    "from src.mushroom_classification.logger import logging\n",
    "from src.mushroom_classification.exception import customexception"
   ]
  },
  {
   "cell_type": "code",
   "execution_count": 6,
   "metadata": {},
   "outputs": [],
   "source": [
    "def save_object(file_path, obj):\n",
    "    try:\n",
    "        dir_path = os.path.dirname(file_path)\n",
    "\n",
    "        os.makedirs(dir_path, exist_ok=True)\n",
    "\n",
    "        with open(file_path, \"wb\") as file_obj:\n",
    "            pickle.dump(obj, file_obj)\n",
    "\n",
    "    except Exception as e:\n",
    "        raise customexception(e, sys)"
   ]
  },
  {
   "cell_type": "code",
   "execution_count": 7,
   "metadata": {},
   "outputs": [],
   "source": [
    "    \n",
    "def load_object(file_path):\n",
    "    try:\n",
    "        with open(file_path,'rb') as file_obj:\n",
    "            return pickle.load(file_obj)\n",
    "    except Exception as e:\n",
    "        logging.info('Exception Occured in load_object function utils')\n",
    "        raise customexception(e,sys)"
   ]
  },
  {
   "cell_type": "code",
   "execution_count": 10,
   "metadata": {},
   "outputs": [],
   "source": [
    "import os\n",
    "import sys\n",
    "import pickle\n",
    "import numpy as np\n",
    "import pandas as pd\n",
    "from src.mushroom_classification.logger import logging\n",
    "from src.mushroom_classification.exception import customexception\n",
    "from sklearn.compose import ColumnTransformer\n",
    "from sklearn.impute import SimpleImputer\n",
    "from sklearn.pipeline import Pipeline\n",
    "from sklearn.preprocessing import OneHotEncoder,StandardScaler\n",
    "from dataclasses import dataclass"
   ]
  },
  {
   "cell_type": "code",
   "execution_count": 11,
   "metadata": {},
   "outputs": [],
   "source": [
    "@dataclass\n",
    "class DataTransformationConfig:\n",
    "    preprocessor_obj_file_path=os.path.join('artifacts','preprocessor.pkl')"
   ]
  },
  {
   "cell_type": "code",
   "execution_count": 12,
   "metadata": {},
   "outputs": [],
   "source": [
    "class DataTransformation:\n",
    "    def __init__(self):\n",
    "        self.data_transformation_config=DataTransformationConfig()\n",
    "\n",
    "        \n",
    "    \n",
    "    def get_data_transformation(self):\n",
    "        \n",
    "        try:\n",
    "            logging.info('Data Transformation initiated')\n",
    "\n",
    "            # Define which columns should be scaled\n",
    "            categorical_cols = ['cap-shape', 'cap-surface', 'cap-color', 'bruises', 'odor',\n",
    "       'gill-attachment', 'gill-spacing', 'gill-size', 'gill-color',\n",
    "       'stalk-shape', 'stalk-root', 'stalk-surface-above-ring',\n",
    "       'stalk-surface-below-ring', 'stalk-color-above-ring',\n",
    "       'stalk-color-below-ring', 'veil-type', 'veil-color', 'ring-number',\n",
    "       'ring-type', 'spore-print-color', 'population', 'habitat']\n",
    "            \n",
    "            \n",
    "            logging.info('Pipeline Initiated')\n",
    "            \n",
    "            \n",
    "\n",
    "            # Categorigal Pipeline\n",
    "            cat_pipeline=Pipeline(\n",
    "                steps=[\n",
    "                ('imputer',SimpleImputer(strategy='most_frequent')),\n",
    "                ('onehotencoder', OneHotEncoder(sparse_output=False,handle_unknown='ignore')),\n",
    "                ('scaler',StandardScaler())\n",
    "                ]\n",
    "            )\n",
    "        \n",
    "            preprocessor = ColumnTransformer([\n",
    "                \n",
    "                ('cat_pipeline', cat_pipeline, categorical_cols)\n",
    "            ])\n",
    "            \n",
    "            return preprocessor\n",
    "            \n",
    "\n",
    "        except Exception as e:\n",
    "            logging.info(\"Exception occured in the initiate_datatransformation\")\n",
    "\n",
    "            raise customexception(e,sys)\n",
    "            \n",
    "    \n",
    "    def initialize_data_transformation(self, train_path, test_path):\n",
    "        try:\n",
    "            logging.info(\"Reading train and test data from CSV files\")\n",
    "            train_df = pd.read_csv(train_path)\n",
    "            test_df = pd.read_csv(test_path)\n",
    "\n",
    "            logging.info(\"Read train and test data complete\")\n",
    "            logging.info(f'Train Dataframe Head:\\n{train_df.head().to_string()}')\n",
    "            logging.info(f'Test Dataframe Head:\\n{test_df.head().to_string()}')\n",
    "\n",
    "            preprocessing_obj = self.get_data_transformation()\n",
    "\n",
    "            target_column_name = 'class'\n",
    "            drop_columns = [target_column_name]\n",
    "\n",
    "            \n",
    "\n",
    "            \n",
    "\n",
    "            \n",
    "            \n",
    "            logging.info(\"Extracting features and target columns\")\n",
    "            # Extract features and target columns\n",
    "            input_feature_train_df = train_df.drop(columns=drop_columns, axis=1)\n",
    "            target_feature_train_df = train_df[target_column_name]\n",
    "\n",
    "            input_feature_test_df = test_df.drop(columns=drop_columns, axis=1)\n",
    "            target_feature_test_df = test_df[target_column_name]\n",
    "\n",
    "            logging.info(\"Read train and test data complete\")\n",
    "            logging.info(f'Train Dataframe Head:\\n{input_feature_train_df.head().to_string()}')\n",
    "            logging.info(f'Test Dataframe Head:\\n{input_feature_test_df.head().to_string()}')\n",
    "\n",
    "\n",
    "            logging.info(\"Applying preprocessing object on training and testing datasets\")\n",
    "            # Apply preprocessing object\n",
    "            input_feature_train_arr = preprocessing_obj.fit_transform(input_feature_train_df)\n",
    "            input_feature_test_arr = preprocessing_obj.transform(input_feature_test_df)\n",
    "\n",
    "            logging.info(\"Combining features and target columns into arrays\")\n",
    "            # Combine features and target columns into arrays\n",
    "            train_arr = np.c_[input_feature_train_arr, np.array(target_feature_train_df)]\n",
    "            test_arr = np.c_[input_feature_test_arr, np.array(target_feature_test_df)]\n",
    "\n",
    "            logging.info(\"Saving preprocessing pickle file\")\n",
    "            # Save preprocessing pickle file\n",
    "            save_object(file_path=self.data_transformation_config.preprocessor_obj_file_path, obj=preprocessing_obj)\n",
    "\n",
    "            logging.info(\"Preprocessing pickle file saved\")\n",
    "\n",
    "            return train_arr, test_arr\n",
    "\n",
    "        except Exception as e:\n",
    "            logging.error(f\"Exception occurred in the initialize_data_transformation: {e}\")\n",
    "            raise customexception(e, sys)"
   ]
  },
  {
   "cell_type": "code",
   "execution_count": 14,
   "metadata": {},
   "outputs": [
    {
     "name": "stdout",
     "output_type": "stream",
     "text": [
      "[2024-01-26 13:06:48,370: INFO: training_pipeline: DataIngestion Pipeline has started]\n",
      "[2024-01-26 13:06:48,374: INFO: data_ingestion: Data ingestion has started]\n",
      "[2024-01-26 13:06:49,221: INFO: data_ingestion: files saved to artifacts]\n"
     ]
    }
   ],
   "source": [
    "from src.mushroom_classification.pipelines.training_pipeline import train_data_path,test_data_path"
   ]
  },
  {
   "cell_type": "code",
   "execution_count": 15,
   "metadata": {},
   "outputs": [
    {
     "name": "stdout",
     "output_type": "stream",
     "text": [
      "[2024-01-26 13:07:01,556: INFO: 301142533: Reading train and test data from CSV files]\n",
      "[2024-01-26 13:07:02,227: INFO: 301142533: Read train and test data complete]\n",
      "[2024-01-26 13:07:02,295: INFO: 301142533: Train Dataframe Head:\n",
      "  class cap-shape cap-surface cap-color bruises odor gill-attachment gill-spacing gill-size gill-color stalk-shape stalk-root stalk-surface-above-ring stalk-surface-below-ring stalk-color-above-ring stalk-color-below-ring veil-type veil-color ring-number ring-type spore-print-color population habitat\n",
      "0     p         k           s         e       f    s               f            c         n          b           t          ?                        s                        k                      p                      w         p          w           o         e                 w          v       d\n",
      "1     p         x           s         n       f    f               f            c         n          b           t          ?                        k                        s                      w                      w         p          w           o         e                 w          v       p\n",
      "2     p         f           y         e       f    y               f            c         n          b           t          ?                        s                        s                      p                      w         p          w           o         e                 w          v       l\n",
      "3     e         f           f         n       t    n               f            c         b          u           t          b                        s                        s                      g                      p         p          w           o         p                 n          v       d\n",
      "4     e         b           y         y       t    l               f            c         b          k           e          c                        s                        s                      w                      w         p          w           o         p                 n          n       m]\n",
      "[2024-01-26 13:07:02,338: INFO: 301142533: Test Dataframe Head:\n",
      "  class cap-shape cap-surface cap-color bruises odor gill-attachment gill-spacing gill-size gill-color stalk-shape stalk-root stalk-surface-above-ring stalk-surface-below-ring stalk-color-above-ring stalk-color-below-ring veil-type veil-color ring-number ring-type spore-print-color population habitat\n",
      "0     e         f           f         n       f    n               f            w         b          h           t          e                        s                        f                      w                      w         p          w           o         e                 n          s       g\n",
      "1     p         f           s         e       f    y               f            c         n          b           t          ?                        s                        s                      p                      p         p          w           o         e                 w          v       l\n",
      "2     p         x           y         n       f    f               f            c         n          b           t          ?                        k                        s                      w                      p         p          w           o         e                 w          v       l\n",
      "3     e         f           y         g       t    n               f            c         b          n           t          b                        s                        s                      g                      p         p          w           o         p                 n          y       d\n",
      "4     p         f           s         e       f    s               f            c         n          b           t          ?                        s                        s                      p                      p         p          w           o         e                 w          v       l]\n",
      "[2024-01-26 13:07:02,343: INFO: 301142533: Data Transformation initiated]\n",
      "[2024-01-26 13:07:02,349: INFO: 301142533: Pipeline Initiated]\n",
      "[2024-01-26 13:07:02,352: INFO: 301142533: Extracting features and target columns]\n",
      "[2024-01-26 13:07:02,425: INFO: 301142533: Read train and test data complete]\n",
      "[2024-01-26 13:07:02,484: INFO: 301142533: Train Dataframe Head:\n",
      "  cap-shape cap-surface cap-color bruises odor gill-attachment gill-spacing gill-size gill-color stalk-shape stalk-root stalk-surface-above-ring stalk-surface-below-ring stalk-color-above-ring stalk-color-below-ring veil-type veil-color ring-number ring-type spore-print-color population habitat\n",
      "0         k           s         e       f    s               f            c         n          b           t          ?                        s                        k                      p                      w         p          w           o         e                 w          v       d\n",
      "1         x           s         n       f    f               f            c         n          b           t          ?                        k                        s                      w                      w         p          w           o         e                 w          v       p\n",
      "2         f           y         e       f    y               f            c         n          b           t          ?                        s                        s                      p                      w         p          w           o         e                 w          v       l\n",
      "3         f           f         n       t    n               f            c         b          u           t          b                        s                        s                      g                      p         p          w           o         p                 n          v       d\n",
      "4         b           y         y       t    l               f            c         b          k           e          c                        s                        s                      w                      w         p          w           o         p                 n          n       m]\n",
      "[2024-01-26 13:07:02,548: INFO: 301142533: Test Dataframe Head:\n",
      "  cap-shape cap-surface cap-color bruises odor gill-attachment gill-spacing gill-size gill-color stalk-shape stalk-root stalk-surface-above-ring stalk-surface-below-ring stalk-color-above-ring stalk-color-below-ring veil-type veil-color ring-number ring-type spore-print-color population habitat\n",
      "0         f           f         n       f    n               f            w         b          h           t          e                        s                        f                      w                      w         p          w           o         e                 n          s       g\n",
      "1         f           s         e       f    y               f            c         n          b           t          ?                        s                        s                      p                      p         p          w           o         e                 w          v       l\n",
      "2         x           y         n       f    f               f            c         n          b           t          ?                        k                        s                      w                      p         p          w           o         e                 w          v       l\n",
      "3         f           y         g       t    n               f            c         b          n           t          b                        s                        s                      g                      p         p          w           o         p                 n          y       d\n",
      "4         f           s         e       f    s               f            c         n          b           t          ?                        s                        s                      p                      p         p          w           o         e                 w          v       l]\n",
      "[2024-01-26 13:07:02,553: INFO: 301142533: Applying preprocessing object on training and testing datasets]\n",
      "[2024-01-26 13:07:02,930: INFO: 301142533: Combining features and target columns into arrays]\n",
      "[2024-01-26 13:07:02,993: INFO: 301142533: Saving preprocessing pickle file]\n",
      "[2024-01-26 13:07:03,015: INFO: 301142533: Preprocessing pickle file saved]\n"
     ]
    }
   ],
   "source": [
    "data_transformation=DataTransformation()\n",
    "train_arr,test_arr=data_transformation.initialize_data_transformation(train_data_path,test_data_path)"
   ]
  },
  {
   "cell_type": "code",
   "execution_count": null,
   "metadata": {},
   "outputs": [],
   "source": []
  }
 ],
 "metadata": {
  "kernelspec": {
   "display_name": "Python 3",
   "language": "python",
   "name": "python3"
  },
  "language_info": {
   "codemirror_mode": {
    "name": "ipython",
    "version": 3
   },
   "file_extension": ".py",
   "mimetype": "text/x-python",
   "name": "python",
   "nbconvert_exporter": "python",
   "pygments_lexer": "ipython3",
   "version": "3.8.0"
  }
 },
 "nbformat": 4,
 "nbformat_minor": 2
}
