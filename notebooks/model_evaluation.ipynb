{
 "cells": [
  {
   "cell_type": "code",
   "execution_count": 1,
   "metadata": {},
   "outputs": [],
   "source": [
    "import os"
   ]
  },
  {
   "cell_type": "code",
   "execution_count": 2,
   "metadata": {},
   "outputs": [
    {
     "data": {
      "text/plain": [
       "'d:\\\\Projects\\\\mushroom_classification\\\\mushroom_classification\\\\notebooks'"
      ]
     },
     "execution_count": 2,
     "metadata": {},
     "output_type": "execute_result"
    }
   ],
   "source": [
    "%pwd"
   ]
  },
  {
   "cell_type": "code",
   "execution_count": 3,
   "metadata": {},
   "outputs": [],
   "source": [
    "os.chdir('../')"
   ]
  },
  {
   "cell_type": "code",
   "execution_count": 4,
   "metadata": {},
   "outputs": [
    {
     "data": {
      "text/plain": [
       "'d:\\\\Projects\\\\mushroom_classification\\\\mushroom_classification'"
      ]
     },
     "execution_count": 4,
     "metadata": {},
     "output_type": "execute_result"
    }
   ],
   "source": [
    "%pwd"
   ]
  },
  {
   "cell_type": "code",
   "execution_count": 5,
   "metadata": {},
   "outputs": [],
   "source": [
    "import os\n",
    "import sys\n",
    "from sklearn.metrics import accuracy_score,classification_report\n",
    "import numpy as np\n",
    "import pickle\n",
    "from src.mushroom_classification.utils.utils import load_object"
   ]
  },
  {
   "cell_type": "code",
   "execution_count": 13,
   "metadata": {},
   "outputs": [],
   "source": [
    "class ModelEvaluation:\n",
    "    def __init__(self):\n",
    "        pass\n",
    "\n",
    "    \n",
    "    def eval_metrics(self,actual, pred):\n",
    "        accuracy = accuracy_score(actual, pred)\n",
    "        report = classification_report(actual, pred)\n",
    "        return accuracy, report \n",
    "\n",
    "\n",
    "    def initiate_model_evaluation(self,train_array,test_array):\n",
    "        try:\n",
    "            X_test,y_test=(test_array[:,:-1], test_array[:,-1])\n",
    "\n",
    "            model_path=os.path.join(\"artifacts\",\"model.pkl\")\n",
    "            model=load_object(model_path)\n",
    "\n",
    "\n",
    "        \n",
    "\n",
    "           \n",
    "\n",
    "            predicted_qualities = model.predict(X_test)\n",
    "\n",
    "            (accuracy, report) = self.eval_metrics(y_test, predicted_qualities)\n",
    "            return accuracy, report \n",
    "\n",
    "               \n",
    "\n",
    "        except Exception as e:\n",
    "            raise e"
   ]
  },
  {
   "cell_type": "code",
   "execution_count": 14,
   "metadata": {},
   "outputs": [],
   "source": [
    "from src.mushroom_classification.pipelines.training_pipeline import train_data_path,test_data_path,train_arr,test_arr"
   ]
  },
  {
   "cell_type": "code",
   "execution_count": 15,
   "metadata": {},
   "outputs": [
    {
     "data": {
      "text/plain": [
       "(1.0,\n",
       " '              precision    recall  f1-score   support\\n\\n           e       1.00      1.00      1.00       843\\n           p       1.00      1.00      1.00       782\\n\\n    accuracy                           1.00      1625\\n   macro avg       1.00      1.00      1.00      1625\\nweighted avg       1.00      1.00      1.00      1625\\n')"
      ]
     },
     "execution_count": 15,
     "metadata": {},
     "output_type": "execute_result"
    }
   ],
   "source": [
    "model_eval_obj = ModelEvaluation()\n",
    "model_eval_obj.initiate_model_evaluation(train_arr,test_arr)"
   ]
  },
  {
   "cell_type": "code",
   "execution_count": null,
   "metadata": {},
   "outputs": [],
   "source": []
  }
 ],
 "metadata": {
  "kernelspec": {
   "display_name": "Python 3",
   "language": "python",
   "name": "python3"
  },
  "language_info": {
   "codemirror_mode": {
    "name": "ipython",
    "version": 3
   },
   "file_extension": ".py",
   "mimetype": "text/x-python",
   "name": "python",
   "nbconvert_exporter": "python",
   "pygments_lexer": "ipython3",
   "version": "3.8.0"
  }
 },
 "nbformat": 4,
 "nbformat_minor": 2
}
