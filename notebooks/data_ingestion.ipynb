{
 "cells": [
  {
   "cell_type": "code",
   "execution_count": 2,
   "metadata": {},
   "outputs": [],
   "source": [
    "import os"
   ]
  },
  {
   "cell_type": "code",
   "execution_count": 3,
   "metadata": {},
   "outputs": [
    {
     "data": {
      "text/plain": [
       "'d:\\\\Projects\\\\mushroom_classification\\\\mushroom_classification\\\\notebooks'"
      ]
     },
     "execution_count": 3,
     "metadata": {},
     "output_type": "execute_result"
    }
   ],
   "source": [
    "%pwd"
   ]
  },
  {
   "cell_type": "code",
   "execution_count": 4,
   "metadata": {},
   "outputs": [],
   "source": [
    "os.chdir('../')"
   ]
  },
  {
   "cell_type": "code",
   "execution_count": 5,
   "metadata": {},
   "outputs": [
    {
     "data": {
      "text/plain": [
       "'d:\\\\Projects\\\\mushroom_classification\\\\mushroom_classification'"
      ]
     },
     "execution_count": 5,
     "metadata": {},
     "output_type": "execute_result"
    }
   ],
   "source": [
    "%pwd"
   ]
  },
  {
   "cell_type": "code",
   "execution_count": 11,
   "metadata": {},
   "outputs": [],
   "source": [
    "import os\n",
    "import sys\n",
    "from src.mushroom_classification.exception import customexception\n",
    "from mushroom_classification.logger import logging\n",
    "import pandas as pd\n",
    "import numpy as np\n",
    "from sklearn.model_selection import train_test_split\n",
    "\n",
    "from dataclasses import dataclass"
   ]
  },
  {
   "cell_type": "code",
   "execution_count": 12,
   "metadata": {},
   "outputs": [],
   "source": [
    "@dataclass()\n",
    "class DataIngestionConfig:\n",
    "    train_path=os.path.join(\"artifacts\",\"train.csv\")\n",
    "    test_path=os.path.join(\"artifacts\",\"test.csv\")\n",
    "    raw_data=os.path.join(\"artifacts\",\"raw.csv\")"
   ]
  },
  {
   "cell_type": "code",
   "execution_count": 14,
   "metadata": {},
   "outputs": [],
   "source": [
    "class DataIngestion:\n",
    "    ''' Data ingetion class'''\n",
    "    def __init__(self):\n",
    "        self.get_data_ingestion_config=DataIngestionConfig()\n",
    "\n",
    "    def Initiate_data_ingestion(self):\n",
    "        try:\n",
    "            logging.info(\"Data ingestion has started\")\n",
    "\n",
    "            df=pd.read_csv(os.path.join(\"notebooks/data\",\"mushrooms.csv\"))\n",
    "\n",
    "            os.makedirs(os.path.dirname(self.get_data_ingestion_config.raw_data),exist_ok=True)\n",
    "            df.to_csv(self.get_data_ingestion_config.raw_data,index=False,header=True)\n",
    "\n",
    "            train_set,test_set=train_test_split(df,test_size=0.20,random_state=42)\n",
    "            train_set.to_csv(self.get_data_ingestion_config.train_path,index=False,header=True)\n",
    "            test_set.to_csv(self.get_data_ingestion_config.test_path,index=False,header=True)\n",
    "            logging.info(\"files saved to artifacts\")\n",
    "\n",
    "            return (self.get_data_ingestion_config.train_path,self.get_data_ingestion_config.test_path)\n",
    "\n",
    "        except Exception as e:\n",
    "            raise customexception(e,sys)"
   ]
  },
  {
   "cell_type": "code",
   "execution_count": 16,
   "metadata": {},
   "outputs": [
    {
     "name": "stdout",
     "output_type": "stream",
     "text": [
      "[2024-01-26 11:12:17,566: INFO: 3337673423: Data ingestion has started]\n",
      "[2024-01-26 11:12:18,397: INFO: 3337673423: files saved to artifacts]\n"
     ]
    }
   ],
   "source": [
    "obj=DataIngestion()\n",
    "train_data_path,test_data_path=obj.Initiate_data_ingestion()"
   ]
  },
  {
   "cell_type": "code",
   "execution_count": null,
   "metadata": {},
   "outputs": [],
   "source": []
  }
 ],
 "metadata": {
  "kernelspec": {
   "display_name": "Python 3",
   "language": "python",
   "name": "python3"
  },
  "language_info": {
   "codemirror_mode": {
    "name": "ipython",
    "version": 3
   },
   "file_extension": ".py",
   "mimetype": "text/x-python",
   "name": "python",
   "nbconvert_exporter": "python",
   "pygments_lexer": "ipython3",
   "version": "3.8.0"
  }
 },
 "nbformat": 4,
 "nbformat_minor": 2
}
