{
 "cells": [
  {
   "cell_type": "code",
   "execution_count": 3,
   "metadata": {},
   "outputs": [],
   "source": [
    "import os"
   ]
  },
  {
   "cell_type": "code",
   "execution_count": 4,
   "metadata": {},
   "outputs": [
    {
     "data": {
      "text/plain": [
       "'d:\\\\Projects\\\\mushroom_classification\\\\mushroom_classification\\\\notebooks'"
      ]
     },
     "execution_count": 4,
     "metadata": {},
     "output_type": "execute_result"
    }
   ],
   "source": [
    "%pwd"
   ]
  },
  {
   "cell_type": "code",
   "execution_count": 5,
   "metadata": {},
   "outputs": [],
   "source": [
    "os.chdir('../')"
   ]
  },
  {
   "cell_type": "code",
   "execution_count": 6,
   "metadata": {},
   "outputs": [
    {
     "data": {
      "text/plain": [
       "'d:\\\\Projects\\\\mushroom_classification\\\\mushroom_classification'"
      ]
     },
     "execution_count": 6,
     "metadata": {},
     "output_type": "execute_result"
    }
   ],
   "source": [
    "%pwd"
   ]
  },
  {
   "cell_type": "code",
   "execution_count": 7,
   "metadata": {},
   "outputs": [],
   "source": [
    "from sklearn.metrics import accuracy_score"
   ]
  },
  {
   "cell_type": "code",
   "execution_count": 8,
   "metadata": {},
   "outputs": [],
   "source": [
    "def evaluate_model(X_train, y_train, X_test, y_test, models):\n",
    "    try:\n",
    "        report = {}\n",
    "        for model_name, model in models.items():\n",
    "            \n",
    "            # Train model on the full training set (no need to fit it twice)\n",
    "            model.fit(X_train, y_train)\n",
    "\n",
    "            # Predict Testing data\n",
    "            y_test_pred = model.predict(X_test)\n",
    "\n",
    "            # Predict Training data\n",
    "            y_train_pred = model.predict(X_train)\n",
    "\n",
    "            # Get R2 scores for train and test data\n",
    "            train_model_score = accuracy_score(y_train, y_train_pred)\n",
    "            test_model_score = accuracy_score(y_test, y_test_pred)\n",
    "\n",
    "            report[model_name] = {'train_score': train_model_score, 'test_score': test_model_score}\n",
    "\n",
    "        return report\n",
    "\n",
    "    except Exception as e:\n",
    "        logging.info('Exception occurred during model training')\n",
    "\n",
    "        raise customexception(e, sys)"
   ]
  },
  {
   "cell_type": "code",
   "execution_count": 9,
   "metadata": {},
   "outputs": [],
   "source": [
    "import os\n",
    "import sys\n",
    "import pickle\n",
    "import numpy as np\n",
    "import pandas as pd\n",
    "from src.mushroom_classification.logger import logging\n",
    "from src.mushroom_classification.exception import customexception\n",
    "from dataclasses import dataclass\n",
    "from sklearn.tree import DecisionTreeClassifier\n",
    "from sklearn.linear_model import LogisticRegression\n",
    "from sklearn.neighbors import KNeighborsClassifier\n",
    "from sklearn.svm import SVC\n",
    "from sklearn.naive_bayes import GaussianNB\n",
    "from sklearn.ensemble import RandomForestClassifier"
   ]
  },
  {
   "cell_type": "code",
   "execution_count": 10,
   "metadata": {},
   "outputs": [],
   "source": [
    "@dataclass \n",
    "class ModelTrainerConfig:\n",
    "    trained_model_file_path = os.path.join('artifacts','model.pkl')"
   ]
  },
  {
   "cell_type": "code",
   "execution_count": 11,
   "metadata": {},
   "outputs": [],
   "source": [
    "class ModelTrainer:\n",
    "    def __init__(self):\n",
    "        self.model_trainer_config = ModelTrainerConfig()\n",
    "    \n",
    "    def initate_model_training(self,train_array,test_array):\n",
    "        try:\n",
    "            logging.info('Splitting Dependent and Independent variables from train and test data')\n",
    "            X_train, y_train, X_test, y_test = (\n",
    "                train_array[:,:-1],\n",
    "                train_array[:,-1],\n",
    "                test_array[:,:-1],\n",
    "                test_array[:,-1]\n",
    "            )\n",
    "\n",
    "            # Extracting the first 5 rows for logging\n",
    "            logging.info(f'X_train (first 5 rows):\\n{pd.DataFrame(train_array[:,:-1]).head()}')\n",
    "            logging.info(f'y_train (first 5 rows):\\n{pd.DataFrame(train_array[:,-1]).head()}')\n",
    "            logging.info(f'X_test (first 5 rows):\\n{pd.DataFrame(test_array[:,:-1]).head()}')\n",
    "            logging.info(f'y_test (first 5 rows):\\n{pd.DataFrame(test_array[:,-1]).head()}')\n",
    "            \n",
    "\n",
    "            models={\n",
    "                    'LogisticRegression':LogisticRegression(),\n",
    "                    'DecisionTreeRegressor':DecisionTreeClassifier(),\n",
    "                    'RandomForestRegressor':RandomForestClassifier(),\n",
    "                    'KNN': KNeighborsClassifier(),\n",
    "                    'SVC': SVC(),\n",
    "                    'GaussianNB': GaussianNB()\n",
    "\n",
    "                 }\n",
    "            \n",
    "            logging.info('Evaluating models...')\n",
    "            model_report:dict=evaluate_model(X_train,y_train,X_test,y_test,models)\n",
    "            print(model_report)\n",
    "            print('\\n====================================================================================\\n')\n",
    "            logging.info(f'Model Report : {model_report}')\n",
    "\n",
    "            # To get best model score from dictionary \n",
    "            best_model_score = max(model_report.values(), key=lambda x: x['test_score'])\n",
    "\n",
    "\n",
    "            best_model_name = list(model_report.keys())[\n",
    "                list(model_report.values()).index(best_model_score)\n",
    "            ]\n",
    "            \n",
    "            best_model = models[best_model_name]\n",
    "\n",
    "            print(f'Best Model Found , Model Name : {best_model_name} , Accuracy Score : {best_model_score}')\n",
    "            print('\\n====================================================================================\\n')\n",
    "            logging.info(f'Best Model Found , Model Name : {best_model_name} , Accuracy Score : {best_model_score}')\n",
    "\n",
    "            save_object(\n",
    "                 file_path=self.model_trainer_config.trained_model_file_path,\n",
    "                 obj=best_model\n",
    "            )\n",
    "          \n",
    "\n",
    "        except Exception as e:\n",
    "            logging.info('Exception occured at Model Training')\n",
    "            raise customexception(e,sys)\n",
    "            "
   ]
  },
  {
   "cell_type": "code",
   "execution_count": 12,
   "metadata": {},
   "outputs": [],
   "source": [
    "def save_object(file_path, obj):\n",
    "    try:\n",
    "        dir_path = os.path.dirname(file_path)\n",
    "\n",
    "        os.makedirs(dir_path, exist_ok=True)\n",
    "\n",
    "        with open(file_path, \"wb\") as file_obj:\n",
    "            pickle.dump(obj, file_obj)\n",
    "\n",
    "    except Exception as e:\n",
    "        raise customexception(e, sys)"
   ]
  },
  {
   "cell_type": "code",
   "execution_count": 13,
   "metadata": {},
   "outputs": [
    {
     "name": "stdout",
     "output_type": "stream",
     "text": [
      "[2024-01-26 14:36:02,482: INFO: training_pipeline: Training Pipeline has started]\n",
      "[2024-01-26 14:36:02,487: INFO: data_ingestion: Data ingestion has started]\n",
      "[2024-01-26 14:36:03,363: INFO: data_ingestion: files saved to artifacts]\n",
      "[2024-01-26 14:36:03,368: INFO: data_transformation: Reading train and test data from CSV files]\n",
      "[2024-01-26 14:36:03,616: INFO: data_transformation: Read train and test data complete]\n",
      "[2024-01-26 14:36:03,693: INFO: data_transformation: Train Dataframe Head:\n",
      "  class cap-shape cap-surface cap-color bruises odor gill-attachment gill-spacing gill-size gill-color stalk-shape stalk-root stalk-surface-above-ring stalk-surface-below-ring stalk-color-above-ring stalk-color-below-ring veil-type veil-color ring-number ring-type spore-print-color population habitat\n",
      "0     p         k           s         e       f    s               f            c         n          b           t          ?                        s                        k                      p                      w         p          w           o         e                 w          v       d\n",
      "1     p         x           s         n       f    f               f            c         n          b           t          ?                        k                        s                      w                      w         p          w           o         e                 w          v       p\n",
      "2     p         f           y         e       f    y               f            c         n          b           t          ?                        s                        s                      p                      w         p          w           o         e                 w          v       l\n",
      "3     e         f           f         n       t    n               f            c         b          u           t          b                        s                        s                      g                      p         p          w           o         p                 n          v       d\n",
      "4     e         b           y         y       t    l               f            c         b          k           e          c                        s                        s                      w                      w         p          w           o         p                 n          n       m]\n",
      "[2024-01-26 14:36:03,745: INFO: data_transformation: Test Dataframe Head:\n",
      "  class cap-shape cap-surface cap-color bruises odor gill-attachment gill-spacing gill-size gill-color stalk-shape stalk-root stalk-surface-above-ring stalk-surface-below-ring stalk-color-above-ring stalk-color-below-ring veil-type veil-color ring-number ring-type spore-print-color population habitat\n",
      "0     e         f           f         n       f    n               f            w         b          h           t          e                        s                        f                      w                      w         p          w           o         e                 n          s       g\n",
      "1     p         f           s         e       f    y               f            c         n          b           t          ?                        s                        s                      p                      p         p          w           o         e                 w          v       l\n",
      "2     p         x           y         n       f    f               f            c         n          b           t          ?                        k                        s                      w                      p         p          w           o         e                 w          v       l\n",
      "3     e         f           y         g       t    n               f            c         b          n           t          b                        s                        s                      g                      p         p          w           o         p                 n          y       d\n",
      "4     p         f           s         e       f    s               f            c         n          b           t          ?                        s                        s                      p                      p         p          w           o         e                 w          v       l]\n",
      "[2024-01-26 14:36:03,750: INFO: data_transformation: Data Transformation initiated]\n",
      "[2024-01-26 14:36:03,756: INFO: data_transformation: Pipeline Initiated]\n",
      "[2024-01-26 14:36:03,763: INFO: data_transformation: Extracting features and target columns]\n",
      "[2024-01-26 14:36:03,816: INFO: data_transformation: Read train and test data complete]\n",
      "[2024-01-26 14:36:03,875: INFO: data_transformation: Train Dataframe Head:\n",
      "  cap-shape cap-surface cap-color bruises odor gill-attachment gill-spacing gill-size gill-color stalk-shape stalk-root stalk-surface-above-ring stalk-surface-below-ring stalk-color-above-ring stalk-color-below-ring veil-type veil-color ring-number ring-type spore-print-color population habitat\n",
      "0         k           s         e       f    s               f            c         n          b           t          ?                        s                        k                      p                      w         p          w           o         e                 w          v       d\n",
      "1         x           s         n       f    f               f            c         n          b           t          ?                        k                        s                      w                      w         p          w           o         e                 w          v       p\n",
      "2         f           y         e       f    y               f            c         n          b           t          ?                        s                        s                      p                      w         p          w           o         e                 w          v       l\n",
      "3         f           f         n       t    n               f            c         b          u           t          b                        s                        s                      g                      p         p          w           o         p                 n          v       d\n",
      "4         b           y         y       t    l               f            c         b          k           e          c                        s                        s                      w                      w         p          w           o         p                 n          n       m]\n",
      "[2024-01-26 14:36:03,926: INFO: data_transformation: Test Dataframe Head:\n",
      "  cap-shape cap-surface cap-color bruises odor gill-attachment gill-spacing gill-size gill-color stalk-shape stalk-root stalk-surface-above-ring stalk-surface-below-ring stalk-color-above-ring stalk-color-below-ring veil-type veil-color ring-number ring-type spore-print-color population habitat\n",
      "0         f           f         n       f    n               f            w         b          h           t          e                        s                        f                      w                      w         p          w           o         e                 n          s       g\n",
      "1         f           s         e       f    y               f            c         n          b           t          ?                        s                        s                      p                      p         p          w           o         e                 w          v       l\n",
      "2         x           y         n       f    f               f            c         n          b           t          ?                        k                        s                      w                      p         p          w           o         e                 w          v       l\n",
      "3         f           y         g       t    n               f            c         b          n           t          b                        s                        s                      g                      p         p          w           o         p                 n          y       d\n",
      "4         f           s         e       f    s               f            c         n          b           t          ?                        s                        s                      p                      p         p          w           o         e                 w          v       l]\n",
      "[2024-01-26 14:36:03,933: INFO: data_transformation: Applying preprocessing object on training and testing datasets]\n",
      "[2024-01-26 14:36:04,335: INFO: data_transformation: Combining features and target columns into arrays]\n",
      "[2024-01-26 14:36:04,417: INFO: data_transformation: Saving preprocessing pickle file]\n",
      "[2024-01-26 14:36:04,443: INFO: data_transformation: Preprocessing pickle file saved]\n"
     ]
    }
   ],
   "source": [
    "from src.mushroom_classification.pipelines.training_pipeline import train_data_path,test_data_path,train_arr,test_arr"
   ]
  },
  {
   "cell_type": "code",
   "execution_count": 14,
   "metadata": {},
   "outputs": [
    {
     "name": "stdout",
     "output_type": "stream",
     "text": [
      "[2024-01-26 14:36:25,028: INFO: 485326021: Splitting Dependent and Independent variables from train and test data]\n",
      "[2024-01-26 14:36:25,074: INFO: 485326021: X_train (first 5 rows):\n",
      "        0        1         2         3        4         5         6    \\\n",
      "0 -0.239658 -0.02149  -0.78349  2.906238 -0.06459 -0.913412 -0.629868   \n",
      "1 -0.239658 -0.02149  -0.78349 -0.344087 -0.06459  1.094796 -0.629868   \n",
      "2 -0.239658 -0.02149  1.276341 -0.344087 -0.06459 -0.913412 -0.629868   \n",
      "3 -0.239658 -0.02149  1.276341 -0.344087 -0.06459 -0.913412  1.587635   \n",
      "4  4.172621 -0.02149  -0.78349 -0.344087 -0.06459 -0.913412 -0.629868   \n",
      "\n",
      "       7         8         9    ...       107       108       109       110  \\\n",
      "0 -0.02149  1.474225 -0.817125  ... -0.423917  1.009741 -0.517781  1.259425   \n",
      "1 -0.02149  1.474225 -0.817125  ... -0.423917  1.009741 -0.517781 -0.794013   \n",
      "2 -0.02149 -0.678322  1.223803  ... -0.423917  1.009741 -0.517781 -0.794013   \n",
      "3 -0.02149 -0.678322 -0.817125  ... -0.423917  1.009741 -0.517781  1.259425   \n",
      "4 -0.02149 -0.678322  1.223803  ... -0.423917 -0.990353 -0.517781 -0.794013   \n",
      "\n",
      "        111       112       113       114       115     116  \n",
      "0 -0.598738 -0.341565 -0.193262 -0.402219 -0.215335 -0.1614  \n",
      "1 -0.598738 -0.341565 -0.193262  2.486205 -0.215335 -0.1614  \n",
      "2 -0.598738    2.9277 -0.193262 -0.402219 -0.215335 -0.1614  \n",
      "3 -0.598738 -0.341565 -0.193262 -0.402219 -0.215335 -0.1614  \n",
      "4 -0.598738 -0.341565  5.174312 -0.402219 -0.215335 -0.1614  \n",
      "\n",
      "[5 rows x 117 columns]]\n",
      "[2024-01-26 14:36:25,085: INFO: 485326021: y_train (first 5 rows):\n",
      "   0\n",
      "0  p\n",
      "1  p\n",
      "2  p\n",
      "3  e\n",
      "4  e]\n",
      "[2024-01-26 14:36:25,147: INFO: 485326021: X_test (first 5 rows):\n",
      "        0        1         2         3        4         5         6    \\\n",
      "0 -0.239658 -0.02149  1.276341 -0.344087 -0.06459 -0.913412  1.587635   \n",
      "1 -0.239658 -0.02149  1.276341 -0.344087 -0.06459 -0.913412 -0.629868   \n",
      "2 -0.239658 -0.02149  -0.78349 -0.344087 -0.06459  1.094796 -0.629868   \n",
      "3 -0.239658 -0.02149  1.276341 -0.344087 -0.06459 -0.913412 -0.629868   \n",
      "4 -0.239658 -0.02149  1.276341 -0.344087 -0.06459 -0.913412 -0.629868   \n",
      "\n",
      "       7         8         9    ...       107       108       109       110  \\\n",
      "0 -0.02149 -0.678322 -0.817125  ...   2.35895 -0.990353 -0.517781 -0.794013   \n",
      "1 -0.02149  1.474225 -0.817125  ... -0.423917  1.009741 -0.517781 -0.794013   \n",
      "2 -0.02149 -0.678322  1.223803  ... -0.423917  1.009741 -0.517781 -0.794013   \n",
      "3 -0.02149 -0.678322  1.223803  ... -0.423917 -0.990353  1.931317  1.259425   \n",
      "4 -0.02149  1.474225 -0.817125  ... -0.423917  1.009741 -0.517781 -0.794013   \n",
      "\n",
      "        111       112       113       114       115     116  \n",
      "0  1.670181 -0.341565 -0.193262 -0.402219 -0.215335 -0.1614  \n",
      "1 -0.598738    2.9277 -0.193262 -0.402219 -0.215335 -0.1614  \n",
      "2 -0.598738    2.9277 -0.193262 -0.402219 -0.215335 -0.1614  \n",
      "3 -0.598738 -0.341565 -0.193262 -0.402219 -0.215335 -0.1614  \n",
      "4 -0.598738    2.9277 -0.193262 -0.402219 -0.215335 -0.1614  \n",
      "\n",
      "[5 rows x 117 columns]]\n",
      "[2024-01-26 14:36:25,155: INFO: 485326021: y_test (first 5 rows):\n",
      "   0\n",
      "0  e\n",
      "1  p\n",
      "2  p\n",
      "3  e\n",
      "4  p]\n",
      "[2024-01-26 14:36:25,158: INFO: 485326021: Evaluating models...]\n",
      "{'LogisticRegression': {'train_score': 1.0, 'test_score': 1.0}, 'DecisionTreeRegressor': {'train_score': 1.0, 'test_score': 1.0}, 'RandomForestRegressor': {'train_score': 1.0, 'test_score': 1.0}, 'KNN': {'train_score': 1.0, 'test_score': 1.0}, 'SVC': {'train_score': 1.0, 'test_score': 1.0}, 'GaussianNB': {'train_score': 0.9586090167718111, 'test_score': 0.9501538461538461}}\n",
      "\n",
      "====================================================================================\n",
      "\n",
      "[2024-01-26 14:36:47,737: INFO: 485326021: Model Report : {'LogisticRegression': {'train_score': 1.0, 'test_score': 1.0}, 'DecisionTreeRegressor': {'train_score': 1.0, 'test_score': 1.0}, 'RandomForestRegressor': {'train_score': 1.0, 'test_score': 1.0}, 'KNN': {'train_score': 1.0, 'test_score': 1.0}, 'SVC': {'train_score': 1.0, 'test_score': 1.0}, 'GaussianNB': {'train_score': 0.9586090167718111, 'test_score': 0.9501538461538461}}]\n",
      "Best Model Found , Model Name : LogisticRegression , Accuracy Score : {'train_score': 1.0, 'test_score': 1.0}\n",
      "\n",
      "====================================================================================\n",
      "\n",
      "[2024-01-26 14:36:47,741: INFO: 485326021: Best Model Found , Model Name : LogisticRegression , Accuracy Score : {'train_score': 1.0, 'test_score': 1.0}]\n"
     ]
    }
   ],
   "source": [
    "model_trainer_obj=ModelTrainer()\n",
    "model_trainer_obj.initate_model_training(train_arr,test_arr)"
   ]
  },
  {
   "cell_type": "code",
   "execution_count": null,
   "metadata": {},
   "outputs": [],
   "source": []
  }
 ],
 "metadata": {
  "kernelspec": {
   "display_name": "Python 3",
   "language": "python",
   "name": "python3"
  },
  "language_info": {
   "codemirror_mode": {
    "name": "ipython",
    "version": 3
   },
   "file_extension": ".py",
   "mimetype": "text/x-python",
   "name": "python",
   "nbconvert_exporter": "python",
   "pygments_lexer": "ipython3",
   "version": "3.8.0"
  }
 },
 "nbformat": 4,
 "nbformat_minor": 2
}
